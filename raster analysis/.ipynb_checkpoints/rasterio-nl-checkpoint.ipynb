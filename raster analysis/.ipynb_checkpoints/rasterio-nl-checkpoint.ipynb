{
 "cells": [
  {
   "cell_type": "code",
   "execution_count": 1,
   "metadata": {},
   "outputs": [],
   "source": [
    "import pandas as pd\n",
    "import requests\n",
    "import logging\n",
    "import time"
   ]
  },
  {
   "cell_type": "code",
   "execution_count": 2,
   "metadata": {},
   "outputs": [
    {
     "name": "stderr",
     "output_type": "stream",
     "text": [
      "/usr/local/Cellar/python3/3.6.4_2/Frameworks/Python.framework/Versions/3.6/lib/python3.6/site-packages/rasterio/__init__.py:160: FutureWarning: GDAL-style transforms are deprecated and will not be supported in Rasterio 1.0.\n",
      "  transform = guard_transform(transform)\n"
     ]
    }
   ],
   "source": [
    "import rasterio as rio\n",
    "import numpy as np\n",
    "\n",
    "\n",
    "with rio.open('/Users/xiaoweirwang/Projects/rasterio/tests/data/rgb1.tif') as src:\n",
    "    # Read the raster into a (rows, cols, depth) array,\n",
    "    # dstack this into a (depth, rows, cols) array,\n",
    "    # the sum along the last axis (~= grayscale)\n",
    "    grey = np.mean(np.dstack(src.read()), axis=2)\n",
    "\n",
    "    # Read the file profile\n",
    "    srcprof = src.profile.copy()\n",
    "\n",
    "classes = 5\n",
    "# Breaks is an array of the class breaks: [   0.   51.  102.  153.  204.]\n",
    "breaks = (np.arange(classes) / float(classes)) * grey.max()\n",
    "\n",
    "# classify the raster\n",
    "classified = np.sum(np.dstack([(grey < b) for b in breaks]), axis=2).reshape(1, 400, 400).astype(np.int32)\n",
    "\n",
    "# Update the file opts to one band\n",
    "srcprof.update(count=1, nodata=None, dtype=classified.dtype)\n",
    "\n",
    "with rio.open('/tmp/output.tif', 'w', **srcprof) as dst:\n",
    "    # Write the output\n",
    "    dst.write(classified)"
   ]
  },
  {
   "cell_type": "code",
   "execution_count": null,
   "metadata": {},
   "outputs": [],
   "source": []
  }
 ],
 "metadata": {
  "kernelspec": {
   "display_name": "Python 3",
   "language": "python",
   "name": "python3"
  },
  "language_info": {
   "codemirror_mode": {
    "name": "ipython",
    "version": 3
   },
   "file_extension": ".py",
   "mimetype": "text/x-python",
   "name": "python",
   "nbconvert_exporter": "python",
   "pygments_lexer": "ipython3",
   "version": "3.6.4"
  }
 },
 "nbformat": 4,
 "nbformat_minor": 2
}
